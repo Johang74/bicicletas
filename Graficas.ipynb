{
  "nbformat": 4,
  "nbformat_minor": 0,
  "metadata": {
    "colab": {
      "name": "Reto_7.ipynb",
      "provenance": [],
      "mount_file_id": "1z_J09G18thGlNRhlPySh1vSaa4Sk_wMd",
      "authorship_tag": "ABX9TyMzIuwtKjCtOF+wkaTOY8rD",
      "include_colab_link": true
    },
    "kernelspec": {
      "name": "python3",
      "display_name": "Python 3"
    },
    "language_info": {
      "name": "python"
    }
  },
  "cells": [
    {
      "cell_type": "markdown",
      "metadata": {
        "id": "view-in-github",
        "colab_type": "text"
      },
      "source": [
        "<a href=\"https://colab.research.google.com/github/Johang74/bicicletas/blob/main/Graficas.ipynb\" target=\"_parent\"><img src=\"https://colab.research.google.com/assets/colab-badge.svg\" alt=\"Open In Colab\"/></a>"
      ]
    },
    {
      "cell_type": "code",
      "metadata": {
        "colab": {
          "base_uri": "https://localhost:8080/",
          "height": 419
        },
        "id": "y7ZlXDkGfHro",
        "outputId": "0e988efa-090a-44ba-c482-8fe3c0925924"
      },
      "source": [
        "# Reto 7\n",
        "# Johan David Gomez Gil\n",
        "\n",
        "import pandas as pd\n",
        "import numpy as np\n",
        "import matplotlib.pyplot as plt\n",
        " \n",
        "\n",
        "ruta = \"/content/drive/MyDrive/Mision Tic/Ciclo 1/Reto 7/Datos_Clientes.csv\"\n",
        "\n",
        "datos = pd.read_csv(ruta)\n",
        "datos = datos.drop(columns=['Unnamed: 0'])\n",
        "datos"
      ],
      "execution_count": 14,
      "outputs": [
        {
          "output_type": "execute_result",
          "data": {
            "text/html": [
              "<div>\n",
              "<style scoped>\n",
              "    .dataframe tbody tr th:only-of-type {\n",
              "        vertical-align: middle;\n",
              "    }\n",
              "\n",
              "    .dataframe tbody tr th {\n",
              "        vertical-align: top;\n",
              "    }\n",
              "\n",
              "    .dataframe thead th {\n",
              "        text-align: right;\n",
              "    }\n",
              "</style>\n",
              "<table border=\"1\" class=\"dataframe\">\n",
              "  <thead>\n",
              "    <tr style=\"text-align: right;\">\n",
              "      <th></th>\n",
              "      <th>cliente_nombres</th>\n",
              "      <th>cliente_apellido1</th>\n",
              "      <th>cliente_genero</th>\n",
              "      <th>bicleta_o_accesorio</th>\n",
              "      <th>bicleta_marca</th>\n",
              "      <th>accesorio</th>\n",
              "    </tr>\n",
              "  </thead>\n",
              "  <tbody>\n",
              "    <tr>\n",
              "      <th>0</th>\n",
              "      <td>WENDY JOHANNA</td>\n",
              "      <td>RIVERA</td>\n",
              "      <td>F</td>\n",
              "      <td>accesorio</td>\n",
              "      <td>NaN</td>\n",
              "      <td>velocimetro</td>\n",
              "    </tr>\n",
              "    <tr>\n",
              "      <th>1</th>\n",
              "      <td>LUZ ELENA</td>\n",
              "      <td>MONTOYA</td>\n",
              "      <td>F</td>\n",
              "      <td>bicleta</td>\n",
              "      <td>Specialized</td>\n",
              "      <td>NaN</td>\n",
              "    </tr>\n",
              "    <tr>\n",
              "      <th>2</th>\n",
              "      <td>MILTON ANDERSON</td>\n",
              "      <td>GONZALEZ</td>\n",
              "      <td>M</td>\n",
              "      <td>accesorio</td>\n",
              "      <td>NaN</td>\n",
              "      <td>luces</td>\n",
              "    </tr>\n",
              "    <tr>\n",
              "      <th>3</th>\n",
              "      <td>ESPERANZA</td>\n",
              "      <td>VANEGAS</td>\n",
              "      <td>M</td>\n",
              "      <td>accesorio</td>\n",
              "      <td>NaN</td>\n",
              "      <td>velocimetro</td>\n",
              "    </tr>\n",
              "    <tr>\n",
              "      <th>4</th>\n",
              "      <td>LINA MARIA</td>\n",
              "      <td>RODRIGUEZ</td>\n",
              "      <td>F</td>\n",
              "      <td>bicleta</td>\n",
              "      <td>Specialized</td>\n",
              "      <td>NaN</td>\n",
              "    </tr>\n",
              "    <tr>\n",
              "      <th>...</th>\n",
              "      <td>...</td>\n",
              "      <td>...</td>\n",
              "      <td>...</td>\n",
              "      <td>...</td>\n",
              "      <td>...</td>\n",
              "      <td>...</td>\n",
              "    </tr>\n",
              "    <tr>\n",
              "      <th>95</th>\n",
              "      <td>CARLOS ARTURO</td>\n",
              "      <td>GARCIA</td>\n",
              "      <td>M</td>\n",
              "      <td>bicleta</td>\n",
              "      <td>treck</td>\n",
              "      <td>NaN</td>\n",
              "    </tr>\n",
              "    <tr>\n",
              "      <th>96</th>\n",
              "      <td>ESPERANZA</td>\n",
              "      <td>VANEGAS</td>\n",
              "      <td>M</td>\n",
              "      <td>accesorio</td>\n",
              "      <td>NaN</td>\n",
              "      <td>luces</td>\n",
              "    </tr>\n",
              "    <tr>\n",
              "      <th>97</th>\n",
              "      <td>ELISA</td>\n",
              "      <td>ESCALANTE</td>\n",
              "      <td>F</td>\n",
              "      <td>bicleta</td>\n",
              "      <td>Specialized</td>\n",
              "      <td>NaN</td>\n",
              "    </tr>\n",
              "    <tr>\n",
              "      <th>98</th>\n",
              "      <td>CARLOS ARTURO</td>\n",
              "      <td>GARCIA</td>\n",
              "      <td>M</td>\n",
              "      <td>bicleta</td>\n",
              "      <td>Specialized</td>\n",
              "      <td>NaN</td>\n",
              "    </tr>\n",
              "    <tr>\n",
              "      <th>99</th>\n",
              "      <td>LINA MARIA</td>\n",
              "      <td>RODRIGUEZ</td>\n",
              "      <td>F</td>\n",
              "      <td>bicleta</td>\n",
              "      <td>treck</td>\n",
              "      <td>NaN</td>\n",
              "    </tr>\n",
              "  </tbody>\n",
              "</table>\n",
              "<p>100 rows × 6 columns</p>\n",
              "</div>"
            ],
            "text/plain": [
              "    cliente_nombres cliente_apellido1  ... bicleta_marca    accesorio\n",
              "0     WENDY JOHANNA            RIVERA  ...           NaN  velocimetro\n",
              "1         LUZ ELENA           MONTOYA  ...   Specialized          NaN\n",
              "2   MILTON ANDERSON          GONZALEZ  ...           NaN        luces\n",
              "3        ESPERANZA            VANEGAS  ...           NaN  velocimetro\n",
              "4        LINA MARIA         RODRIGUEZ  ...   Specialized          NaN\n",
              "..              ...               ...  ...           ...          ...\n",
              "95    CARLOS ARTURO            GARCIA  ...         treck          NaN\n",
              "96       ESPERANZA            VANEGAS  ...           NaN        luces\n",
              "97           ELISA          ESCALANTE  ...   Specialized          NaN\n",
              "98    CARLOS ARTURO            GARCIA  ...   Specialized          NaN\n",
              "99       LINA MARIA         RODRIGUEZ  ...         treck          NaN\n",
              "\n",
              "[100 rows x 6 columns]"
            ]
          },
          "metadata": {
            "tags": []
          },
          "execution_count": 14
        }
      ]
    },
    {
      "cell_type": "code",
      "metadata": {
        "colab": {
          "base_uri": "https://localhost:8080/",
          "height": 419
        },
        "id": "mJcrdIn0dm59",
        "outputId": "e0be8499-6351-45b1-c7ff-80ac9e9d6fdc"
      },
      "source": [
        "datos[\"nombre\"] = datos[\"cliente_nombres\"] + \" \" + datos[\"cliente_apellido1\"]\n",
        "datos"
      ],
      "execution_count": 8,
      "outputs": [
        {
          "output_type": "execute_result",
          "data": {
            "text/html": [
              "<div>\n",
              "<style scoped>\n",
              "    .dataframe tbody tr th:only-of-type {\n",
              "        vertical-align: middle;\n",
              "    }\n",
              "\n",
              "    .dataframe tbody tr th {\n",
              "        vertical-align: top;\n",
              "    }\n",
              "\n",
              "    .dataframe thead th {\n",
              "        text-align: right;\n",
              "    }\n",
              "</style>\n",
              "<table border=\"1\" class=\"dataframe\">\n",
              "  <thead>\n",
              "    <tr style=\"text-align: right;\">\n",
              "      <th></th>\n",
              "      <th>cliente_nombres</th>\n",
              "      <th>cliente_apellido1</th>\n",
              "      <th>cliente_genero</th>\n",
              "      <th>bicleta_o_accesorio</th>\n",
              "      <th>bicleta_marca</th>\n",
              "      <th>accesorio</th>\n",
              "      <th>nombre</th>\n",
              "    </tr>\n",
              "  </thead>\n",
              "  <tbody>\n",
              "    <tr>\n",
              "      <th>0</th>\n",
              "      <td>WENDY JOHANNA</td>\n",
              "      <td>RIVERA</td>\n",
              "      <td>F</td>\n",
              "      <td>accesorio</td>\n",
              "      <td>NaN</td>\n",
              "      <td>velocimetro</td>\n",
              "      <td>WENDY JOHANNA RIVERA</td>\n",
              "    </tr>\n",
              "    <tr>\n",
              "      <th>1</th>\n",
              "      <td>LUZ ELENA</td>\n",
              "      <td>MONTOYA</td>\n",
              "      <td>F</td>\n",
              "      <td>bicleta</td>\n",
              "      <td>Specialized</td>\n",
              "      <td>NaN</td>\n",
              "      <td>LUZ ELENA MONTOYA</td>\n",
              "    </tr>\n",
              "    <tr>\n",
              "      <th>2</th>\n",
              "      <td>MILTON ANDERSON</td>\n",
              "      <td>GONZALEZ</td>\n",
              "      <td>M</td>\n",
              "      <td>accesorio</td>\n",
              "      <td>NaN</td>\n",
              "      <td>luces</td>\n",
              "      <td>MILTON ANDERSON GONZALEZ</td>\n",
              "    </tr>\n",
              "    <tr>\n",
              "      <th>3</th>\n",
              "      <td>ESPERANZA</td>\n",
              "      <td>VANEGAS</td>\n",
              "      <td>M</td>\n",
              "      <td>accesorio</td>\n",
              "      <td>NaN</td>\n",
              "      <td>velocimetro</td>\n",
              "      <td>ESPERANZA  VANEGAS</td>\n",
              "    </tr>\n",
              "    <tr>\n",
              "      <th>4</th>\n",
              "      <td>LINA MARIA</td>\n",
              "      <td>RODRIGUEZ</td>\n",
              "      <td>F</td>\n",
              "      <td>bicleta</td>\n",
              "      <td>Specialized</td>\n",
              "      <td>NaN</td>\n",
              "      <td>LINA MARIA RODRIGUEZ</td>\n",
              "    </tr>\n",
              "    <tr>\n",
              "      <th>...</th>\n",
              "      <td>...</td>\n",
              "      <td>...</td>\n",
              "      <td>...</td>\n",
              "      <td>...</td>\n",
              "      <td>...</td>\n",
              "      <td>...</td>\n",
              "      <td>...</td>\n",
              "    </tr>\n",
              "    <tr>\n",
              "      <th>95</th>\n",
              "      <td>CARLOS ARTURO</td>\n",
              "      <td>GARCIA</td>\n",
              "      <td>M</td>\n",
              "      <td>bicleta</td>\n",
              "      <td>treck</td>\n",
              "      <td>NaN</td>\n",
              "      <td>CARLOS ARTURO GARCIA</td>\n",
              "    </tr>\n",
              "    <tr>\n",
              "      <th>96</th>\n",
              "      <td>ESPERANZA</td>\n",
              "      <td>VANEGAS</td>\n",
              "      <td>M</td>\n",
              "      <td>accesorio</td>\n",
              "      <td>NaN</td>\n",
              "      <td>luces</td>\n",
              "      <td>ESPERANZA  VANEGAS</td>\n",
              "    </tr>\n",
              "    <tr>\n",
              "      <th>97</th>\n",
              "      <td>ELISA</td>\n",
              "      <td>ESCALANTE</td>\n",
              "      <td>F</td>\n",
              "      <td>bicleta</td>\n",
              "      <td>Specialized</td>\n",
              "      <td>NaN</td>\n",
              "      <td>ELISA  ESCALANTE</td>\n",
              "    </tr>\n",
              "    <tr>\n",
              "      <th>98</th>\n",
              "      <td>CARLOS ARTURO</td>\n",
              "      <td>GARCIA</td>\n",
              "      <td>M</td>\n",
              "      <td>bicleta</td>\n",
              "      <td>Specialized</td>\n",
              "      <td>NaN</td>\n",
              "      <td>CARLOS ARTURO GARCIA</td>\n",
              "    </tr>\n",
              "    <tr>\n",
              "      <th>99</th>\n",
              "      <td>LINA MARIA</td>\n",
              "      <td>RODRIGUEZ</td>\n",
              "      <td>F</td>\n",
              "      <td>bicleta</td>\n",
              "      <td>treck</td>\n",
              "      <td>NaN</td>\n",
              "      <td>LINA MARIA RODRIGUEZ</td>\n",
              "    </tr>\n",
              "  </tbody>\n",
              "</table>\n",
              "<p>100 rows × 7 columns</p>\n",
              "</div>"
            ],
            "text/plain": [
              "    cliente_nombres cliente_apellido1  ...    accesorio                    nombre\n",
              "0     WENDY JOHANNA            RIVERA  ...  velocimetro      WENDY JOHANNA RIVERA\n",
              "1         LUZ ELENA           MONTOYA  ...          NaN         LUZ ELENA MONTOYA\n",
              "2   MILTON ANDERSON          GONZALEZ  ...        luces  MILTON ANDERSON GONZALEZ\n",
              "3        ESPERANZA            VANEGAS  ...  velocimetro        ESPERANZA  VANEGAS\n",
              "4        LINA MARIA         RODRIGUEZ  ...          NaN      LINA MARIA RODRIGUEZ\n",
              "..              ...               ...  ...          ...                       ...\n",
              "95    CARLOS ARTURO            GARCIA  ...          NaN      CARLOS ARTURO GARCIA\n",
              "96       ESPERANZA            VANEGAS  ...        luces        ESPERANZA  VANEGAS\n",
              "97           ELISA          ESCALANTE  ...          NaN          ELISA  ESCALANTE\n",
              "98    CARLOS ARTURO            GARCIA  ...          NaN      CARLOS ARTURO GARCIA\n",
              "99       LINA MARIA         RODRIGUEZ  ...          NaN      LINA MARIA RODRIGUEZ\n",
              "\n",
              "[100 rows x 7 columns]"
            ]
          },
          "metadata": {
            "tags": []
          },
          "execution_count": 8
        }
      ]
    },
    {
      "cell_type": "markdown",
      "metadata": {
        "id": "qpG83lSNeNwl"
      },
      "source": [
        "# Mejores clientes"
      ]
    },
    {
      "cell_type": "markdown",
      "metadata": {
        "id": "mUdNsMI8g7gt"
      },
      "source": [
        "\n",
        "\n",
        "*   Se saca una lista con cada uno de los clientes sin repetirlos\n",
        "*   Se cuenta cuantas veces aparece el cliente en la base de datos, osea cuantas compras ha hecho\n",
        "*Luego se imprime el nombre y las compras que ha hecho\n",
        "\n"
      ]
    },
    {
      "cell_type": "code",
      "metadata": {
        "colab": {
          "base_uri": "https://localhost:8080/"
        },
        "id": "upDJHCgMeIUE",
        "outputId": "bed526bb-48c6-4b5a-daea-2ef63d7c5fe3"
      },
      "source": [
        "clientes_unicos = list(datos[\"nombre\"].unique())\n",
        "\n",
        "clientes_plot = []\n",
        "num_compras_plot = []\n",
        "\n",
        "for i in clientes_unicos:\n",
        "  num_compras = np.sum(datos[\"nombre\"] == i)\n",
        "  if num_compras > 1:\n",
        "    clientes_plot.append(i)\n",
        "    num_compras_plot.append(num_compras)\n",
        "    print (i,\":\",num_compras)"
      ],
      "execution_count": 12,
      "outputs": [
        {
          "output_type": "stream",
          "text": [
            "WENDY JOHANNA RIVERA : 7\n",
            "MILTON ANDERSON GONZALEZ : 6\n",
            "ESPERANZA  VANEGAS : 3\n",
            "LINA MARIA RODRIGUEZ : 8\n",
            "CARLOS ARTURO GARCIA : 5\n",
            "JOSE DARIO BERMUDEZ : 4\n",
            "ARIEL  BEDOYA : 6\n",
            "ELISA  ESCALANTE : 7\n",
            "MARIA ALEYDA MARIN : 3\n"
          ],
          "name": "stdout"
        }
      ]
    },
    {
      "cell_type": "code",
      "metadata": {
        "colab": {
          "base_uri": "https://localhost:8080/",
          "height": 292
        },
        "id": "d2OTCc6Gg6d4",
        "outputId": "5976f694-e4bd-4c39-a072-5d2eac408d61"
      },
      "source": [
        "fig, ax1 = plt.subplots(figsize=(10, 2.5)) #Crear el marco de la grafica\n",
        "ax1.bar(clientes_plot,num_compras_plot, color = \"#34871D\", width = 0.5) #Dar formato de barras\n",
        "ax1.set_xticklabels(clientes_plot, rotation=30, ha='right') # Dar formato al eje X\n",
        "ax1.set_xlabel('Nombre de Clientes') # Dar nombre al eje X\n",
        "ax1.set_ylabel('Numero de Compras') # Dar nombre al eje Y\n",
        "fig.suptitle('Mejores Clientes por Semana', fontsize = 15) # Poner el titulo superior\n",
        "plt.grid(True, axis=\"y\", color = \"black\") # Mostrar grid solo en el eje y\n",
        "plt.show() # Mostrar la grafica"
      ],
      "execution_count": 29,
      "outputs": [
        {
          "output_type": "display_data",
          "data": {
            "image/png": "[encoded data removed]",
            "text/plain": [
              "<Figure size 720x180 with 1 Axes>"
            ]
          },
          "metadata": {
            "tags": [],
            "needs_background": "light"
          }
        }
      ]
    },
    {
      "cell_type": "markdown",
      "metadata": {
        "id": "Nmlgr2kWmHyC"
      },
      "source": [
        "# Quienes compran mas productos"
      ]
    },
    {
      "cell_type": "code",
      "metadata": {
        "colab": {
          "base_uri": "https://localhost:8080/",
          "height": 370
        },
        "id": "OqnIaHQ1mL-n",
        "outputId": "859e7840-91fa-40fa-dc19-b56ba8d1b9ed"
      },
      "source": [
        "lista_generos = []\n",
        "plot_generos = [\"Mujeres\",\"Hombres\"] # Los nombres de cada barra\n",
        "lista_generos.append(np.sum(datos[\"cliente_genero\"] == \"F\")) # Suma la cantidad de mujeres que hay\n",
        "lista_generos.append(np.sum(datos[\"cliente_genero\"]==\"M\")) # Suma la cantidad de hombres que hay\n",
        "\n",
        "fig, ax1 = plt.subplots(figsize=(5,5))\n",
        "ax1.bar(plot_generos,lista_generos, color = [\"#DC2157\",\"#0D3399\"]) # Define formato barras y colores diferentes para cada una\n",
        "\n",
        "ax1.set_xlabel(\"Genero\")\n",
        "ax1.set_ylabel(\"Numero\")\n",
        "fig.suptitle(\"Numero de mujeres y hombres\", fontsize = 15)\n",
        "plt.grid(True, axis=\"y\", color = \"black\")\n",
        "plt.show()"
      ],
      "execution_count": 41,
      "outputs": [
        {
          "output_type": "display_data",
          "data": {
            "image/png": "[encoded data removed]",
            "text/plain": [
              "<Figure size 360x360 with 1 Axes>"
            ]
          },
          "metadata": {
            "tags": [],
            "needs_background": "light"
          }
        }
      ]
    },
    {
      "cell_type": "markdown",
      "metadata": {
        "id": "OrNW1gWWrNwp"
      },
      "source": [
        "#¿Alguien ha comprado más de una bicicleta en esta semana, o más de un accesorio?"
      ]
    },
    {
      "cell_type": "code",
      "metadata": {
        "id": "tOFK_LxVrSaA"
      },
      "source": [
        "clientes_bicicleta  = datos.loc[datos['bicleta_o_accesorio'] == 'bicleta','cliente_nombres'] # Extrae a quienes han comprado bicicletas\n",
        "clientes_accesorios = datos.loc[datos['bicleta_o_accesorio'] == 'accesorio','cliente_nombres'] # Extrae a quienes han comprado accesorios\n"
      ],
      "execution_count": 55,
      "outputs": []
    },
    {
      "cell_type": "code",
      "metadata": {
        "colab": {
          "base_uri": "https://localhost:8080/"
        },
        "id": "HEHPCMZqvE2F",
        "outputId": "0cec6f1f-a789-4b18-d9fe-37a4704e06c1"
      },
      "source": [
        "print('Personas que han comprado mas de una bicicleta ... \\n')\n",
        "clientes_bicicleta_unicos = np.unique(clientes_bicicleta)\n",
        "for ii in clientes_bicicleta_unicos:\n",
        "    num_comp = sum(clientes_bicicleta == ii)\n",
        "    if num_comp > 1:\n",
        "      print(ii ,' : ',num_comp)"
      ],
      "execution_count": 53,
      "outputs": [
        {
          "output_type": "stream",
          "text": [
            "Personas que han comprado mas de una bicicleta ... \n",
            "\n",
            "CARLOS ARTURO  :  3\n",
            "ELISA   :  5\n",
            "JOSE DARIO  :  2\n",
            "LINA MARIA  :  6\n",
            "MARIA ALEYDA  :  2\n",
            "MILTON ANDERSON  :  4\n",
            "WENDY JOHANNA  :  3\n"
          ],
          "name": "stdout"
        }
      ]
    },
    {
      "cell_type": "code",
      "metadata": {
        "colab": {
          "base_uri": "https://localhost:8080/"
        },
        "id": "AfVPqQ31vZys",
        "outputId": "3b277c21-d86b-48a9-8e77-9e83e2163736"
      },
      "source": [
        "print('Personas que han comprado mas de un accesorio ... \\n')\n",
        "clientes_accesorio_unicos = np.unique(clientes_accesorios)\n",
        "for ii in clientes_accesorio_unicos:\n",
        "    num_comp = sum(clientes_accesorios == ii)\n",
        "    if num_comp > 1:\n",
        "      print(ii ,' : ',num_comp)"
      ],
      "execution_count": 54,
      "outputs": [
        {
          "output_type": "stream",
          "text": [
            "Personas que han comprado mas de un accesorio ... \n",
            "\n",
            "ARIEL   :  5\n",
            "CARLOS ARTURO  :  2\n",
            "ELISA   :  2\n",
            "ESPERANZA   :  3\n",
            "JOSE DARIO  :  2\n",
            "LINA MARIA  :  2\n",
            "MILTON ANDERSON  :  2\n",
            "WENDY JOHANNA  :  4\n"
          ],
          "name": "stdout"
        }
      ]
    },
    {
      "cell_type": "markdown",
      "metadata": {
        "id": "7Pt2_fVIwLZD"
      },
      "source": [
        "# Bicicletas mas compradas"
      ]
    },
    {
      "cell_type": "code",
      "metadata": {
        "colab": {
          "base_uri": "https://localhost:8080/"
        },
        "id": "D4zwAM3bwQsi",
        "outputId": "f2482f8b-dc46-40f3-ed3e-757111569222"
      },
      "source": [
        "bicicletas_unicas = list(datos[\"bicleta_marca\"].unique()) # Lista de las marcas de bicicletas\n",
        "bicicletas_unicas.pop(0)\n",
        "bicicletas_plot = []\n",
        "cantidad_plot = []\n",
        "\n",
        "for i in bicicletas_unicas:\n",
        "  cant = np.sum(datos[\"bicleta_marca\"] == i)\n",
        "  bicicletas_plot.append(i)\n",
        "  cantidad_plot.append(cant)\n",
        "  print(i,\"\",cant)\n",
        "\n",
        "#bicicletas_plot.pop(0)\n",
        "#cantidad_plot.pop(0)\n",
        "\n"
      ],
      "execution_count": 88,
      "outputs": [
        {
          "output_type": "stream",
          "text": [
            "Specialized  18\n",
            "treck  18\n",
            "BMC  18\n"
          ],
          "name": "stdout"
        }
      ]
    },
    {
      "cell_type": "code",
      "metadata": {
        "colab": {
          "base_uri": "https://localhost:8080/",
          "height": 335
        },
        "id": "VtsyRh1Tz91H",
        "outputId": "f257f8ba-d919-4889-a88b-cddaab0ac6f3"
      },
      "source": [
        "fig, ax1 = plt.subplots()\n",
        "ax1.bar(bicicletas_plot,cantidad_plot, color = [\"#47D12E\",\"#2F8720\",\"#18510E\"], width=0.5)\n",
        "ax1.set_xticklabels(bicicletas_plot, rotation=30, ha='right')\n",
        "ax1.set_xlabel(\"Bicicleta\")\n",
        "ax1.set_ylabel(\"Cantidad\")\n",
        "fig.suptitle(\"Bicicletas mas compradas\")\n",
        "plt.grid(True, axis=\"y\", color = \"black\")\n",
        "plt.show()"
      ],
      "execution_count": 89,
      "outputs": [
        {
          "output_type": "display_data",
          "data": {
            "image/png": "[encoded data removed]",
            "text/plain": [
              "<Figure size 432x288 with 1 Axes>"
            ]
          },
          "metadata": {
            "tags": [],
            "needs_background": "light"
          }
        }
      ]
    },
    {
      "cell_type": "markdown",
      "metadata": {
        "id": "oizbnUSG3Ewd"
      },
      "source": [
        "# ¿Cuáles son los accesorios más comprados?"
      ]
    },
    {
      "cell_type": "code",
      "metadata": {
        "colab": {
          "base_uri": "https://localhost:8080/"
        },
        "id": "rlwXn4kg3GXz",
        "outputId": "d9888d9a-68c5-44c3-c51b-927f6d07fb00"
      },
      "source": [
        "accesorios_unicos = list(datos[\"accesorio\"].unique()) # Lista de accesorios\n",
        "accesorios_unicos.pop(1)\n",
        "accesorios_plot = []\n",
        "cantidad_plot = []\n",
        "\n",
        "for i in accesorios_unicos:\n",
        "  cant = np.sum(datos[\"accesorio\"] == i)\n",
        "  accesorios_plot.append(i)\n",
        "  cantidad_plot.append(cant)\n",
        "  print(i,\"\",cant)"
      ],
      "execution_count": 90,
      "outputs": [
        {
          "output_type": "stream",
          "text": [
            "velocimetro  5\n",
            "luces  8\n",
            "herramientas  11\n",
            "porta_bicicletas  11\n",
            "casco  11\n"
          ],
          "name": "stdout"
        }
      ]
    },
    {
      "cell_type": "code",
      "metadata": {
        "colab": {
          "base_uri": "https://localhost:8080/",
          "height": 347
        },
        "id": "2wZPY7wG3tMe",
        "outputId": "827e2e93-78cd-47d2-d4df-c0b5a7250906"
      },
      "source": [
        "fig, ax1 = plt.subplots()\n",
        "ax1.bar(accesorios_plot,cantidad_plot, color = [\"#47D12E\",\"#2F8720\",\"#18510E\"], width=0.5)\n",
        "ax1.set_xticklabels(accesorios_plot, rotation=30, ha='right')\n",
        "ax1.set_xlabel(\"Accesorio\")\n",
        "ax1.set_ylabel(\"Cantidad\")\n",
        "fig.suptitle(\"Accesorios mas comprados\")\n",
        "plt.grid(True, axis=\"y\", color = \"black\")\n",
        "plt.show()"
      ],
      "execution_count": 91,
      "outputs": [
        {
          "output_type": "display_data",
          "data": {
            "image/png": "[encoded data removed]",
            "text/plain": [
              "<Figure size 432x288 with 1 Axes>"
            ]
          },
          "metadata": {
            "tags": [],
            "needs_background": "light"
          }
        }
      ]
    }
  ]
}